{
  "nbformat": 4,
  "nbformat_minor": 0,
  "metadata": {
    "colab": {
      "name": "Perceptron_Gates",
      "provenance": [],
      "collapsed_sections": [],
      "toc_visible": true,
      "include_colab_link": true
    },
    "kernelspec": {
      "display_name": "Python 3",
      "name": "python3"
    }
  },
  "cells": [
    {
      "cell_type": "markdown",
      "metadata": {
        "id": "view-in-github",
        "colab_type": "text"
      },
      "source": [
        "<a href=\"https://colab.research.google.com/github/davidosollo/IA_Python/blob/master/Perceptron_Gates.ipynb\" target=\"_parent\"><img src=\"https://colab.research.google.com/assets/colab-badge.svg\" alt=\"Open In Colab\"/></a>"
      ]
    },
    {
      "cell_type": "markdown",
      "metadata": {
        "id": "HhEmCUppt9Lz",
        "colab_type": "text"
      },
      "source": [
        "Importar Librerias"
      ]
    },
    {
      "cell_type": "code",
      "metadata": {
        "id": "WxlZh4qOqdet",
        "colab_type": "code",
        "colab": {}
      },
      "source": [
        "\n",
        "import numpy as np\n",
        "import matplotlib.pyplot as plt\n",
        "\n",
        "\n"
      ],
      "execution_count": 0,
      "outputs": []
    },
    {
      "cell_type": "markdown",
      "metadata": {
        "id": "jedgwB4ZuBzs",
        "colab_type": "text"
      },
      "source": [
        "Declarar la clase Perceptron"
      ]
    },
    {
      "cell_type": "code",
      "metadata": {
        "id": "7azOWANzsnLW",
        "colab_type": "code",
        "colab": {}
      },
      "source": [
        "class Perceptron:\n",
        "\n",
        "  def __init__(self, n_inputs, learning_rate, epochs):\n",
        "    self.w = - 1 + 2 * np.random.rand(n_inputs)\n",
        "    self.b = - 1 + 2 * np.random.rand()\n",
        "    self.eta = learning_rate\n",
        "    self.epochs = epochs\n",
        "\n",
        "  def predict(self, X):\n",
        "    _, p = X.shape\n",
        "    y_est = np.zeros(p)\n",
        "    for i in range(p):\n",
        "      y_est[i] = np.dot(self.w, X[:,i])+self.b\n",
        "      if y_est[i] >= 0:\n",
        "        y_est[i]=1\n",
        "      else:\n",
        "        y_est[i]=0\n",
        "    return y_est\n",
        "\n",
        "  def fit(self, X, Y):\n",
        "    _, p = X.shape\n",
        "    for _ in range(self.epochs):\n",
        "      for i in range(p):\n",
        "        y_est = self.predict(X[:,i].reshape(-1,1))\n",
        "        self.w += self.eta * (Y[i]-y_est) * X[:,i]\n",
        "        self.b += self.eta * (Y[i]-y_est)"
      ],
      "execution_count": 0,
      "outputs": []
    },
    {
      "cell_type": "markdown",
      "metadata": {
        "id": "73_UvwAZuN_7",
        "colab_type": "text"
      },
      "source": [
        "Graficar el preceptron\n"
      ]
    },
    {
      "cell_type": "code",
      "metadata": {
        "id": "HgrrjHcTs_mc",
        "colab_type": "code",
        "colab": {}
      },
      "source": [
        "def draw_2d_percep(model):\n",
        "  w1, w2, b = model.w[0], model.w[1], model.b \n",
        "  plt.plot([-2, 2],[(1/w2)*(-w1*(-2)-b),(1/w2)*(-w1*2-b)],'--k')"
      ],
      "execution_count": 0,
      "outputs": []
    },
    {
      "cell_type": "markdown",
      "metadata": {
        "id": "-WCEbaBiuX5E",
        "colab_type": "text"
      },
      "source": [
        "Evaluar las compuertas Logicas "
      ]
    },
    {
      "cell_type": "code",
      "metadata": {
        "colab_type": "code",
        "outputId": "37b9b512-1bfa-4eda-df61-60fdc5abf779",
        "id": "oGo32RRNvlZx",
        "colab": {
          "base_uri": "https://localhost:8080/",
          "height": 297
        }
      },
      "source": [
        "  # Instanciar el modelo\n",
        "model = Perceptron(2, 0.1,50)\n",
        "\n",
        "# Datos And Gate\n",
        "X = np.array([[0, 0, 1, 1],\n",
        "              [0, 1, 0, 1]])\n",
        "\n",
        "# And Gate\n",
        "Y = np.array([0, 0, 0, 1])\n",
        "\n",
        "# Entrenar\n",
        "model.fit(X,Y)\n",
        "\n",
        "# PredicciÃ³n\n",
        "model.predict(X)\n",
        "\n",
        "# Primero dibujemos los puntos\n",
        "_, p = X.shape\n",
        "for i in range(p):\n",
        "   if Y[i] == 0:\n",
        "     plt.plot(X[0,i],X[1,i], 'or')\n",
        "   else:\n",
        "     plt.plot(X[0,i],X[1,i], 'ob')\n",
        "\n",
        "plt.title('Perceptron')\n",
        "plt.grid('on')\n",
        "plt.xlim([-2,2])\n",
        "plt.ylim([-2,2])\n",
        "plt.xlabel(r'$x_1$')\n",
        "plt.ylabel(r'$x_2$')\n",
        "\n",
        "draw_2d_percep(model)"
      ],
      "execution_count": 0,
      "outputs": [
        {
          "output_type": "display_data",
          "data": {
            "image/png": "[encoded data removed]",
            "text/plain": [
              "<Figure size 432x288 with 1 Axes>"
            ]
          },
          "metadata": {
            "tags": [],
            "needs_background": "light"
          }
        }
      ]
    },
    {
      "cell_type": "code",
      "metadata": {
        "colab_type": "code",
        "outputId": "3c831ee4-4369-4578-eae4-a5bec7c54ca0",
        "id": "hpW4GC__vqEM",
        "colab": {
          "base_uri": "https://localhost:8080/",
          "height": 297
        }
      },
      "source": [
        "  # Instanciar el modelo\n",
        "model = Perceptron(2, 0.1,50)\n",
        "\n",
        "# Datos And Gate\n",
        "X = np.array([[0, 0, 1, 1],\n",
        "              [0, 1, 0, 1]])\n",
        "\n",
        "\n",
        "# OR Gate\n",
        "Y = np.array([0, 1, 1, 1])\n",
        "\n",
        "# Entrenar\n",
        "model.fit(X,Y)\n",
        "\n",
        "# PredicciÃ³n\n",
        "model.predict(X)\n",
        "\n",
        "# Primero dibujemos los puntos\n",
        "_, p = X.shape\n",
        "for i in range(p):\n",
        "   if Y[i] == 0:\n",
        "     plt.plot(X[0,i],X[1,i], 'or')\n",
        "   else:\n",
        "     plt.plot(X[0,i],X[1,i], 'ob')\n",
        "\n",
        "plt.title('Perceptron')\n",
        "plt.grid('on')\n",
        "plt.xlim([-2,2])\n",
        "plt.ylim([-2,2])\n",
        "plt.xlabel(r'$x_1$')\n",
        "plt.ylabel(r'$x_2$')\n",
        "\n",
        "draw_2d_percep(model)"
      ],
      "execution_count": 0,
      "outputs": [
        {
          "output_type": "display_data",
          "data": {
            "image/png": "[encoded data removed]",
            "text/plain": [
              "<Figure size 432x288 with 1 Axes>"
            ]
          },
          "metadata": {
            "tags": [],
            "needs_background": "light"
          }
        }
      ]
    },
    {
      "cell_type": "code",
      "metadata": {
        "id": "f1mdRgAKtFw7",
        "colab_type": "code",
        "outputId": "d33519ca-7f2a-4207-8985-0222b6dd38e7",
        "colab": {
          "base_uri": "https://localhost:8080/",
          "height": 297
        }
      },
      "source": [
        "  # Instanciar el modelo\n",
        "model = Perceptron(2, 0.1,50)\n",
        "\n",
        "# Datos And Gate\n",
        "X = np.array([[0, 0, 1, 1],\n",
        "              [0, 1, 0, 1]])\n",
        "\n",
        "# XOR Gate\n",
        "Y = np.array([0, 1, 1, 0])\n",
        "\n",
        "# Entrenar\n",
        "model.fit(X,Y)\n",
        "\n",
        "# PredicciÃ³n\n",
        "model.predict(X)\n",
        "\n",
        "# Primero dibujemos los puntos\n",
        "_, p = X.shape\n",
        "for i in range(p):\n",
        "   if Y[i] == 0:\n",
        "     plt.plot(X[0,i],X[1,i], 'or')\n",
        "   else:\n",
        "     plt.plot(X[0,i],X[1,i], 'ob')\n",
        "\n",
        "plt.title('Perceptron')\n",
        "plt.grid('on')\n",
        "plt.xlim([-2,2])\n",
        "plt.ylim([-2,2])\n",
        "plt.xlabel(r'$x_1$')\n",
        "plt.ylabel(r'$x_2$')\n",
        "\n",
        "draw_2d_percep(model)"
      ],
      "execution_count": 0,
      "outputs": [
        {
          "output_type": "display_data",
          "data": {
            "image/png": "[encoded data removed]",
            "text/plain": [
              "<Figure size 432x288 with 1 Axes>"
            ]
          },
          "metadata": {
            "tags": [],
            "needs_background": "light"
          }
        }
      ]
    }
  ]
}